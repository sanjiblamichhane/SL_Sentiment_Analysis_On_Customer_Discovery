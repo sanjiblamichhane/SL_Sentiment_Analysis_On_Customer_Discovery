{
 "cells": [
  {
   "cell_type": "markdown",
   "id": "397e1403-2c82-46b4-acf0-716161e264dc",
   "metadata": {
    "tags": []
   },
   "source": [
    "##### Author: Sanjib Lamichhane"
   ]
  },
  {
   "cell_type": "markdown",
   "id": "78e0f8f0-fe3c-4562-aa6f-8d64006e344f",
   "metadata": {},
   "source": [
    "##### Project Status: In Progress"
   ]
  },
  {
   "cell_type": "markdown",
   "id": "e389166e-07a0-4969-8ad7-7b91f241d4b0",
   "metadata": {},
   "source": [
    "## Import Data\n"
   ]
  },
  {
   "cell_type": "code",
   "execution_count": 11,
   "id": "f14261d2-d701-4aec-a211-16fb877d6879",
   "metadata": {},
   "outputs": [],
   "source": [
    "import pandas as pd\n",
    "\n",
    "import datetime"
   ]
  },
  {
   "cell_type": "code",
   "execution_count": 2,
   "id": "c5909e09-8d98-4fdc-84a4-14e970e8e6ca",
   "metadata": {},
   "outputs": [],
   "source": [
    "# import data from github repo\n",
    "df = pd.read_csv(\"https://raw.githubusercontent.com/sanjiblamichhane/SL_Sentiment_Analysis_On_Customer_Discovery/master/data/clean_interview.csv\")"
   ]
  },
  {
   "cell_type": "code",
   "execution_count": 4,
   "id": "e8a404c8-2111-4df9-ab18-1bb632c71e91",
   "metadata": {},
   "outputs": [
    {
     "data": {
      "text/html": [
       "<div>\n",
       "<style scoped>\n",
       "    .dataframe tbody tr th:only-of-type {\n",
       "        vertical-align: middle;\n",
       "    }\n",
       "\n",
       "    .dataframe tbody tr th {\n",
       "        vertical-align: top;\n",
       "    }\n",
       "\n",
       "    .dataframe thead th {\n",
       "        text-align: right;\n",
       "    }\n",
       "</style>\n",
       "<table border=\"1\" class=\"dataframe\">\n",
       "  <thead>\n",
       "    <tr style=\"text-align: right;\">\n",
       "      <th></th>\n",
       "      <th>Date</th>\n",
       "      <th>Interviewee</th>\n",
       "      <th>Profession</th>\n",
       "      <th>Medium</th>\n",
       "      <th>Notes</th>\n",
       "    </tr>\n",
       "  </thead>\n",
       "  <tbody>\n",
       "    <tr>\n",
       "      <th>0</th>\n",
       "      <td>9/20/2021</td>\n",
       "      <td>NaN</td>\n",
       "      <td>Marine Biologist Shellfish Management</td>\n",
       "      <td>In-Person</td>\n",
       "      <td>Jennifer is in charge of permits, regulations ...</td>\n",
       "    </tr>\n",
       "    <tr>\n",
       "      <th>1</th>\n",
       "      <td>9/9/2021</td>\n",
       "      <td>NaN</td>\n",
       "      <td>President CEO</td>\n",
       "      <td>In-Person</td>\n",
       "      <td>Their farm is located in Maryland Chesapeake B...</td>\n",
       "    </tr>\n",
       "    <tr>\n",
       "      <th>2</th>\n",
       "      <td>9/9/2021</td>\n",
       "      <td>NaN</td>\n",
       "      <td>Electronics Design Technician</td>\n",
       "      <td>Video Conference</td>\n",
       "      <td>They use cables to transmit power and data, he...</td>\n",
       "    </tr>\n",
       "    <tr>\n",
       "      <th>3</th>\n",
       "      <td>9/9/2021</td>\n",
       "      <td>NaN</td>\n",
       "      <td>Owner</td>\n",
       "      <td>Video Conference</td>\n",
       "      <td>They raised Tilapia fish indoor, in a controll...</td>\n",
       "    </tr>\n",
       "    <tr>\n",
       "      <th>4</th>\n",
       "      <td>9/9/2021</td>\n",
       "      <td>NaN</td>\n",
       "      <td>Owner</td>\n",
       "      <td>Video Conference</td>\n",
       "      <td>She took eggs indoor and hatched them controll...</td>\n",
       "    </tr>\n",
       "  </tbody>\n",
       "</table>\n",
       "</div>"
      ],
      "text/plain": [
       "        Date  Interviewee                             Profession  \\\n",
       "0  9/20/2021          NaN  Marine Biologist Shellfish Management   \n",
       "1   9/9/2021          NaN                          President CEO   \n",
       "2   9/9/2021          NaN          Electronics Design Technician   \n",
       "3   9/9/2021          NaN                                  Owner   \n",
       "4   9/9/2021          NaN                                  Owner   \n",
       "\n",
       "             Medium                                              Notes  \n",
       "0         In-Person  Jennifer is in charge of permits, regulations ...  \n",
       "1         In-Person  Their farm is located in Maryland Chesapeake B...  \n",
       "2  Video Conference  They use cables to transmit power and data, he...  \n",
       "3  Video Conference  They raised Tilapia fish indoor, in a controll...  \n",
       "4  Video Conference  She took eggs indoor and hatched them controll...  "
      ]
     },
     "execution_count": 4,
     "metadata": {},
     "output_type": "execute_result"
    }
   ],
   "source": [
    "## preview dataframe\n",
    "df.head()"
   ]
  },
  {
   "cell_type": "markdown",
   "id": "92e8ff75-78cb-447e-9eea-4e2cb18434c8",
   "metadata": {},
   "source": [
    "# Exploratory Data Analysis"
   ]
  },
  {
   "cell_type": "code",
   "execution_count": 5,
   "id": "4487770e-bea4-4bfa-ad7a-adcf0231b7ac",
   "metadata": {},
   "outputs": [
    {
     "data": {
      "text/plain": [
       "(35, 5)"
      ]
     },
     "execution_count": 5,
     "metadata": {},
     "output_type": "execute_result"
    }
   ],
   "source": [
    "## let's look at the dimension of the data\n",
    "df.shape"
   ]
  },
  {
   "cell_type": "code",
   "execution_count": 6,
   "id": "8d5a5aa5-da01-4e1b-89c1-8f27240d3728",
   "metadata": {},
   "outputs": [
    {
     "data": {
      "text/plain": [
       "Index(['Date', 'Interviewee', 'Profession', 'Medium', 'Notes'], dtype='object')"
      ]
     },
     "execution_count": 6,
     "metadata": {},
     "output_type": "execute_result"
    }
   ],
   "source": [
    "## print all columns\n",
    "df.columns"
   ]
  },
  {
   "cell_type": "markdown",
   "id": "93d98570-c887-4ccd-a470-755bf61e5f82",
   "metadata": {},
   "source": [
    "- we noticed there're 5 columns\n",
    "- each column is referred as 'Object' datatype"
   ]
  },
  {
   "cell_type": "markdown",
   "id": "e68b1402-37e3-4203-b6da-7925f1b73bd9",
   "metadata": {},
   "source": [
    "## General Information About DataFrame"
   ]
  },
  {
   "cell_type": "code",
   "execution_count": 8,
   "id": "4b93c0a0-d520-470b-8a11-0b1a56a96ee7",
   "metadata": {},
   "outputs": [
    {
     "name": "stdout",
     "output_type": "stream",
     "text": [
      "<class 'pandas.core.frame.DataFrame'>\n",
      "RangeIndex: 35 entries, 0 to 34\n",
      "Data columns (total 5 columns):\n",
      " #   Column       Non-Null Count  Dtype  \n",
      "---  ------       --------------  -----  \n",
      " 0   Date         35 non-null     object \n",
      " 1   Interviewee  0 non-null      float64\n",
      " 2   Profession   35 non-null     object \n",
      " 3   Medium       35 non-null     object \n",
      " 4   Notes        34 non-null     object \n",
      "dtypes: float64(1), object(4)\n",
      "memory usage: 1.5+ KB\n"
     ]
    }
   ],
   "source": [
    "df.info()"
   ]
  },
  {
   "cell_type": "markdown",
   "id": "8f15e246-aba7-41bd-987c-a9af499ffe00",
   "metadata": {},
   "source": [
    "- Date is 'object' data-type. Need to change to datatime format\n",
    "- Interviewee is float64. The real names of Interviewee were dropped. So Let's randomly generate some name for each interviewee."
   ]
  },
  {
   "cell_type": "code",
   "execution_count": 18,
   "id": "8294b95c-ef81-424a-80df-40d77a8c8c13",
   "metadata": {},
   "outputs": [],
   "source": [
    "## change the column type of date\n",
    "df[\"Date\"] = pd.to_datetime(df[\"Date\"])"
   ]
  },
  {
   "cell_type": "markdown",
   "id": "511c1671-35f5-4986-b29f-22ca901185e9",
   "metadata": {},
   "source": [
    "https://stackoverflow.com/questions/38333954/converting-object-to-datetime-format-in-python "
   ]
  },
  {
   "cell_type": "code",
   "execution_count": 20,
   "id": "b8b2d756-51e0-4f67-968c-f92ecfad6f33",
   "metadata": {},
   "outputs": [
    {
     "name": "stdout",
     "output_type": "stream",
     "text": [
      "<class 'pandas.core.frame.DataFrame'>\n",
      "RangeIndex: 35 entries, 0 to 34\n",
      "Data columns (total 5 columns):\n",
      " #   Column       Non-Null Count  Dtype         \n",
      "---  ------       --------------  -----         \n",
      " 0   Date         35 non-null     datetime64[ns]\n",
      " 1   Interviewee  0 non-null      float64       \n",
      " 2   Profession   35 non-null     object        \n",
      " 3   Medium       35 non-null     object        \n",
      " 4   Notes        34 non-null     object        \n",
      "dtypes: datetime64[ns](1), float64(1), object(3)\n",
      "memory usage: 1.5+ KB\n"
     ]
    }
   ],
   "source": [
    "## check the updated datatype\n",
    "df.info()"
   ]
  },
  {
   "cell_type": "code",
   "execution_count": 21,
   "id": "dfa9595c-f2d4-48c5-9633-f22c9d47429a",
   "metadata": {},
   "outputs": [
    {
     "data": {
      "text/html": [
       "<div>\n",
       "<style scoped>\n",
       "    .dataframe tbody tr th:only-of-type {\n",
       "        vertical-align: middle;\n",
       "    }\n",
       "\n",
       "    .dataframe tbody tr th {\n",
       "        vertical-align: top;\n",
       "    }\n",
       "\n",
       "    .dataframe thead th {\n",
       "        text-align: right;\n",
       "    }\n",
       "</style>\n",
       "<table border=\"1\" class=\"dataframe\">\n",
       "  <thead>\n",
       "    <tr style=\"text-align: right;\">\n",
       "      <th></th>\n",
       "      <th>Interviewee</th>\n",
       "    </tr>\n",
       "  </thead>\n",
       "  <tbody>\n",
       "    <tr>\n",
       "      <th>count</th>\n",
       "      <td>0.0</td>\n",
       "    </tr>\n",
       "    <tr>\n",
       "      <th>mean</th>\n",
       "      <td>NaN</td>\n",
       "    </tr>\n",
       "    <tr>\n",
       "      <th>std</th>\n",
       "      <td>NaN</td>\n",
       "    </tr>\n",
       "    <tr>\n",
       "      <th>min</th>\n",
       "      <td>NaN</td>\n",
       "    </tr>\n",
       "    <tr>\n",
       "      <th>25%</th>\n",
       "      <td>NaN</td>\n",
       "    </tr>\n",
       "    <tr>\n",
       "      <th>50%</th>\n",
       "      <td>NaN</td>\n",
       "    </tr>\n",
       "    <tr>\n",
       "      <th>75%</th>\n",
       "      <td>NaN</td>\n",
       "    </tr>\n",
       "    <tr>\n",
       "      <th>max</th>\n",
       "      <td>NaN</td>\n",
       "    </tr>\n",
       "  </tbody>\n",
       "</table>\n",
       "</div>"
      ],
      "text/plain": [
       "       Interviewee\n",
       "count          0.0\n",
       "mean           NaN\n",
       "std            NaN\n",
       "min            NaN\n",
       "25%            NaN\n",
       "50%            NaN\n",
       "75%            NaN\n",
       "max            NaN"
      ]
     },
     "execution_count": 21,
     "metadata": {},
     "output_type": "execute_result"
    }
   ],
   "source": [
    "##\n",
    "df.describe()"
   ]
  },
  {
   "cell_type": "markdown",
   "id": "068105f3-efed-4a58-b233-45784121d051",
   "metadata": {},
   "source": [
    "##  Sorting"
   ]
  },
  {
   "cell_type": "code",
   "execution_count": 23,
   "id": "660be99b-3c25-4816-9777-342c86065d6e",
   "metadata": {},
   "outputs": [
    {
     "data": {
      "text/html": [
       "<div>\n",
       "<style scoped>\n",
       "    .dataframe tbody tr th:only-of-type {\n",
       "        vertical-align: middle;\n",
       "    }\n",
       "\n",
       "    .dataframe tbody tr th {\n",
       "        vertical-align: top;\n",
       "    }\n",
       "\n",
       "    .dataframe thead th {\n",
       "        text-align: right;\n",
       "    }\n",
       "</style>\n",
       "<table border=\"1\" class=\"dataframe\">\n",
       "  <thead>\n",
       "    <tr style=\"text-align: right;\">\n",
       "      <th></th>\n",
       "      <th>Date</th>\n",
       "      <th>Interviewee</th>\n",
       "      <th>Profession</th>\n",
       "      <th>Medium</th>\n",
       "      <th>Notes</th>\n",
       "    </tr>\n",
       "  </thead>\n",
       "  <tbody>\n",
       "    <tr>\n",
       "      <th>34</th>\n",
       "      <td>2021-08-03</td>\n",
       "      <td>NaN</td>\n",
       "      <td>Pacific Northwest Laboratory</td>\n",
       "      <td>Video Conference</td>\n",
       "      <td>TBD</td>\n",
       "    </tr>\n",
       "    <tr>\n",
       "      <th>33</th>\n",
       "      <td>2021-08-05</td>\n",
       "      <td>NaN</td>\n",
       "      <td>Director, Navigation and Civil Works Decision</td>\n",
       "      <td>Video Conference</td>\n",
       "      <td>attribute to improvement in Navigation, Dredgi...</td>\n",
       "    </tr>\n",
       "    <tr>\n",
       "      <th>31</th>\n",
       "      <td>2021-08-06</td>\n",
       "      <td>NaN</td>\n",
       "      <td>UW locatizaltion</td>\n",
       "      <td>In-Person</td>\n",
       "      <td>TBD</td>\n",
       "    </tr>\n",
       "    <tr>\n",
       "      <th>32</th>\n",
       "      <td>2021-08-06</td>\n",
       "      <td>NaN</td>\n",
       "      <td>Diving Officer</td>\n",
       "      <td>Video Conference</td>\n",
       "      <td>Monday Aug 9th at 2pm</td>\n",
       "    </tr>\n",
       "    <tr>\n",
       "      <th>30</th>\n",
       "      <td>2021-08-11</td>\n",
       "      <td>NaN</td>\n",
       "      <td>Associate Director</td>\n",
       "      <td>Video Conference</td>\n",
       "      <td>Discuss acoustic technology in commercialization.</td>\n",
       "    </tr>\n",
       "  </tbody>\n",
       "</table>\n",
       "</div>"
      ],
      "text/plain": [
       "         Date  Interviewee                                     Profession  \\\n",
       "34 2021-08-03          NaN                   Pacific Northwest Laboratory   \n",
       "33 2021-08-05          NaN  Director, Navigation and Civil Works Decision   \n",
       "31 2021-08-06          NaN                               UW locatizaltion   \n",
       "32 2021-08-06          NaN                                Diving Officer    \n",
       "30 2021-08-11          NaN                            Associate Director    \n",
       "\n",
       "              Medium                                              Notes  \n",
       "34  Video Conference                                                TBD  \n",
       "33  Video Conference  attribute to improvement in Navigation, Dredgi...  \n",
       "31         In-Person                                                TBD  \n",
       "32  Video Conference                              Monday Aug 9th at 2pm  \n",
       "30  Video Conference  Discuss acoustic technology in commercialization.  "
      ]
     },
     "execution_count": 23,
     "metadata": {},
     "output_type": "execute_result"
    }
   ],
   "source": [
    "## sort by date\n",
    "df.sort_values(by='Date', ascending = True).head()"
   ]
  },
  {
   "cell_type": "code",
   "execution_count": null,
   "id": "082fd464-0ee7-455f-8a60-4bb384ffa5a7",
   "metadata": {},
   "outputs": [],
   "source": []
  }
 ],
 "metadata": {
  "kernelspec": {
   "display_name": "Python 3 (ipykernel)",
   "language": "python",
   "name": "python3"
  },
  "language_info": {
   "codemirror_mode": {
    "name": "ipython",
    "version": 3
   },
   "file_extension": ".py",
   "mimetype": "text/x-python",
   "name": "python",
   "nbconvert_exporter": "python",
   "pygments_lexer": "ipython3",
   "version": "3.9.6"
  }
 },
 "nbformat": 4,
 "nbformat_minor": 5
}
