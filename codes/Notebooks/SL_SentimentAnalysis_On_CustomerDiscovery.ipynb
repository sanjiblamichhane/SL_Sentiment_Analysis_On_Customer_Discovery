{
  "cells": [
    {
      "cell_type": "markdown",
      "id": "397e1403-2c82-46b4-acf0-716161e264dc",
      "metadata": {
        "tags": [],
        "id": "397e1403-2c82-46b4-acf0-716161e264dc"
      },
      "source": [
        "##### Author: Sanjib Lamichhane"
      ]
    },
    {
      "cell_type": "markdown",
      "id": "78e0f8f0-fe3c-4562-aa6f-8d64006e344f",
      "metadata": {
        "id": "78e0f8f0-fe3c-4562-aa6f-8d64006e344f"
      },
      "source": [
        "##### Project Status: In Progress"
      ]
    },
    {
      "cell_type": "markdown",
      "id": "e389166e-07a0-4969-8ad7-7b91f241d4b0",
      "metadata": {
        "id": "e389166e-07a0-4969-8ad7-7b91f241d4b0"
      },
      "source": [
        "## Import Data\n"
      ]
    },
    {
      "cell_type": "code",
      "execution_count": 1,
      "id": "f14261d2-d701-4aec-a211-16fb877d6879",
      "metadata": {
        "id": "f14261d2-d701-4aec-a211-16fb877d6879"
      },
      "outputs": [],
      "source": [
        "import numpy as np\n",
        "import pandas as pd\n",
        "import matplotlib as mpl\n",
        "import matplotlib.pyplot as plt\n",
        "%matplotlib inline\n",
        "\n",
        "import datetime"
      ]
    },
    {
      "cell_type": "code",
      "execution_count": 2,
      "id": "c5909e09-8d98-4fdc-84a4-14e970e8e6ca",
      "metadata": {
        "id": "c5909e09-8d98-4fdc-84a4-14e970e8e6ca"
      },
      "outputs": [],
      "source": [
        "# import data from github repo\n",
        "df = pd.read_csv(\"https://raw.githubusercontent.com/sanjiblamichhane/SL_Sentiment_Analysis_On_Customer_Discovery/master/data/clean_interview.csv\")"
      ]
    },
    {
      "cell_type": "code",
      "execution_count": 3,
      "id": "e8a404c8-2111-4df9-ab18-1bb632c71e91",
      "metadata": {
        "colab": {
          "base_uri": "https://localhost:8080/",
          "height": 206
        },
        "id": "e8a404c8-2111-4df9-ab18-1bb632c71e91",
        "outputId": "2d98a5ce-bb01-4ce9-ebb4-40ab6fcfb218"
      },
      "outputs": [
        {
          "output_type": "execute_result",
          "data": {
            "text/html": [
              "\n",
              "  <div id=\"df-949386fa-296f-456d-959d-aa63a8a04afa\">\n",
              "    <div class=\"colab-df-container\">\n",
              "      <div>\n",
              "<style scoped>\n",
              "    .dataframe tbody tr th:only-of-type {\n",
              "        vertical-align: middle;\n",
              "    }\n",
              "\n",
              "    .dataframe tbody tr th {\n",
              "        vertical-align: top;\n",
              "    }\n",
              "\n",
              "    .dataframe thead th {\n",
              "        text-align: right;\n",
              "    }\n",
              "</style>\n",
              "<table border=\"1\" class=\"dataframe\">\n",
              "  <thead>\n",
              "    <tr style=\"text-align: right;\">\n",
              "      <th></th>\n",
              "      <th>Date</th>\n",
              "      <th>Interviewee</th>\n",
              "      <th>Profession</th>\n",
              "      <th>Medium</th>\n",
              "      <th>Notes</th>\n",
              "    </tr>\n",
              "  </thead>\n",
              "  <tbody>\n",
              "    <tr>\n",
              "      <th>0</th>\n",
              "      <td>9/20/2021</td>\n",
              "      <td>NaN</td>\n",
              "      <td>Marine Biologist Shellfish Management</td>\n",
              "      <td>In-Person</td>\n",
              "      <td>Jennifer is in charge of permits, regulations ...</td>\n",
              "    </tr>\n",
              "    <tr>\n",
              "      <th>1</th>\n",
              "      <td>9/9/2021</td>\n",
              "      <td>NaN</td>\n",
              "      <td>President CEO</td>\n",
              "      <td>In-Person</td>\n",
              "      <td>Their farm is located in Maryland Chesapeake B...</td>\n",
              "    </tr>\n",
              "    <tr>\n",
              "      <th>2</th>\n",
              "      <td>9/9/2021</td>\n",
              "      <td>NaN</td>\n",
              "      <td>Electronics Design Technician</td>\n",
              "      <td>Video Conference</td>\n",
              "      <td>They use cables to transmit power and data, he...</td>\n",
              "    </tr>\n",
              "    <tr>\n",
              "      <th>3</th>\n",
              "      <td>9/9/2021</td>\n",
              "      <td>NaN</td>\n",
              "      <td>Owner</td>\n",
              "      <td>Video Conference</td>\n",
              "      <td>They raised Tilapia fish indoor, in a controll...</td>\n",
              "    </tr>\n",
              "    <tr>\n",
              "      <th>4</th>\n",
              "      <td>9/9/2021</td>\n",
              "      <td>NaN</td>\n",
              "      <td>Owner</td>\n",
              "      <td>Video Conference</td>\n",
              "      <td>She took eggs indoor and hatched them controll...</td>\n",
              "    </tr>\n",
              "  </tbody>\n",
              "</table>\n",
              "</div>\n",
              "      <button class=\"colab-df-convert\" onclick=\"convertToInteractive('df-949386fa-296f-456d-959d-aa63a8a04afa')\"\n",
              "              title=\"Convert this dataframe to an interactive table.\"\n",
              "              style=\"display:none;\">\n",
              "        \n",
              "  <svg xmlns=\"http://www.w3.org/2000/svg\" height=\"24px\"viewBox=\"0 0 24 24\"\n",
              "       width=\"24px\">\n",
              "    <path d=\"M0 0h24v24H0V0z\" fill=\"none\"/>\n",
              "    <path d=\"M18.56 5.44l.94 2.06.94-2.06 2.06-.94-2.06-.94-.94-2.06-.94 2.06-2.06.94zm-11 1L8.5 8.5l.94-2.06 2.06-.94-2.06-.94L8.5 2.5l-.94 2.06-2.06.94zm10 10l.94 2.06.94-2.06 2.06-.94-2.06-.94-.94-2.06-.94 2.06-2.06.94z\"/><path d=\"M17.41 7.96l-1.37-1.37c-.4-.4-.92-.59-1.43-.59-.52 0-1.04.2-1.43.59L10.3 9.45l-7.72 7.72c-.78.78-.78 2.05 0 2.83L4 21.41c.39.39.9.59 1.41.59.51 0 1.02-.2 1.41-.59l7.78-7.78 2.81-2.81c.8-.78.8-2.07 0-2.86zM5.41 20L4 18.59l7.72-7.72 1.47 1.35L5.41 20z\"/>\n",
              "  </svg>\n",
              "      </button>\n",
              "      \n",
              "  <style>\n",
              "    .colab-df-container {\n",
              "      display:flex;\n",
              "      flex-wrap:wrap;\n",
              "      gap: 12px;\n",
              "    }\n",
              "\n",
              "    .colab-df-convert {\n",
              "      background-color: #E8F0FE;\n",
              "      border: none;\n",
              "      border-radius: 50%;\n",
              "      cursor: pointer;\n",
              "      display: none;\n",
              "      fill: #1967D2;\n",
              "      height: 32px;\n",
              "      padding: 0 0 0 0;\n",
              "      width: 32px;\n",
              "    }\n",
              "\n",
              "    .colab-df-convert:hover {\n",
              "      background-color: #E2EBFA;\n",
              "      box-shadow: 0px 1px 2px rgba(60, 64, 67, 0.3), 0px 1px 3px 1px rgba(60, 64, 67, 0.15);\n",
              "      fill: #174EA6;\n",
              "    }\n",
              "\n",
              "    [theme=dark] .colab-df-convert {\n",
              "      background-color: #3B4455;\n",
              "      fill: #D2E3FC;\n",
              "    }\n",
              "\n",
              "    [theme=dark] .colab-df-convert:hover {\n",
              "      background-color: #434B5C;\n",
              "      box-shadow: 0px 1px 3px 1px rgba(0, 0, 0, 0.15);\n",
              "      filter: drop-shadow(0px 1px 2px rgba(0, 0, 0, 0.3));\n",
              "      fill: #FFFFFF;\n",
              "    }\n",
              "  </style>\n",
              "\n",
              "      <script>\n",
              "        const buttonEl =\n",
              "          document.querySelector('#df-949386fa-296f-456d-959d-aa63a8a04afa button.colab-df-convert');\n",
              "        buttonEl.style.display =\n",
              "          google.colab.kernel.accessAllowed ? 'block' : 'none';\n",
              "\n",
              "        async function convertToInteractive(key) {\n",
              "          const element = document.querySelector('#df-949386fa-296f-456d-959d-aa63a8a04afa');\n",
              "          const dataTable =\n",
              "            await google.colab.kernel.invokeFunction('convertToInteractive',\n",
              "                                                     [key], {});\n",
              "          if (!dataTable) return;\n",
              "\n",
              "          const docLinkHtml = 'Like what you see? Visit the ' +\n",
              "            '<a target=\"_blank\" href=https://colab.research.google.com/notebooks/data_table.ipynb>data table notebook</a>'\n",
              "            + ' to learn more about interactive tables.';\n",
              "          element.innerHTML = '';\n",
              "          dataTable['output_type'] = 'display_data';\n",
              "          await google.colab.output.renderOutput(dataTable, element);\n",
              "          const docLink = document.createElement('div');\n",
              "          docLink.innerHTML = docLinkHtml;\n",
              "          element.appendChild(docLink);\n",
              "        }\n",
              "      </script>\n",
              "    </div>\n",
              "  </div>\n",
              "  "
            ],
            "text/plain": [
              "        Date  ...                                              Notes\n",
              "0  9/20/2021  ...  Jennifer is in charge of permits, regulations ...\n",
              "1   9/9/2021  ...  Their farm is located in Maryland Chesapeake B...\n",
              "2   9/9/2021  ...  They use cables to transmit power and data, he...\n",
              "3   9/9/2021  ...  They raised Tilapia fish indoor, in a controll...\n",
              "4   9/9/2021  ...  She took eggs indoor and hatched them controll...\n",
              "\n",
              "[5 rows x 5 columns]"
            ]
          },
          "metadata": {},
          "execution_count": 3
        }
      ],
      "source": [
        "## preview dataframe\n",
        "df.head()"
      ]
    },
    {
      "cell_type": "markdown",
      "id": "92e8ff75-78cb-447e-9eea-4e2cb18434c8",
      "metadata": {
        "id": "92e8ff75-78cb-447e-9eea-4e2cb18434c8"
      },
      "source": [
        "# Exploratory Data Analysis"
      ]
    },
    {
      "cell_type": "code",
      "execution_count": 4,
      "id": "4487770e-bea4-4bfa-ad7a-adcf0231b7ac",
      "metadata": {
        "colab": {
          "base_uri": "https://localhost:8080/"
        },
        "id": "4487770e-bea4-4bfa-ad7a-adcf0231b7ac",
        "outputId": "b5cba640-fd83-4fd4-b763-e310b7af4901"
      },
      "outputs": [
        {
          "output_type": "execute_result",
          "data": {
            "text/plain": [
              "(35, 5)"
            ]
          },
          "metadata": {},
          "execution_count": 4
        }
      ],
      "source": [
        "## let's look at the dimension of the data\n",
        "df.shape"
      ]
    },
    {
      "cell_type": "code",
      "execution_count": 5,
      "id": "8d5a5aa5-da01-4e1b-89c1-8f27240d3728",
      "metadata": {
        "colab": {
          "base_uri": "https://localhost:8080/"
        },
        "id": "8d5a5aa5-da01-4e1b-89c1-8f27240d3728",
        "outputId": "fd99f509-6298-4037-cda1-13ca5835f3e7"
      },
      "outputs": [
        {
          "output_type": "execute_result",
          "data": {
            "text/plain": [
              "Index(['Date', 'Interviewee', 'Profession', 'Medium', 'Notes'], dtype='object')"
            ]
          },
          "metadata": {},
          "execution_count": 5
        }
      ],
      "source": [
        "## print all columns\n",
        "df.columns"
      ]
    },
    {
      "cell_type": "markdown",
      "id": "93d98570-c887-4ccd-a470-755bf61e5f82",
      "metadata": {
        "id": "93d98570-c887-4ccd-a470-755bf61e5f82"
      },
      "source": [
        "- we noticed there're 5 columns\n",
        "- each column is referred as 'Object' datatype"
      ]
    },
    {
      "cell_type": "markdown",
      "id": "e68b1402-37e3-4203-b6da-7925f1b73bd9",
      "metadata": {
        "id": "e68b1402-37e3-4203-b6da-7925f1b73bd9"
      },
      "source": [
        "## General Information About DataFrame"
      ]
    },
    {
      "cell_type": "code",
      "execution_count": 6,
      "id": "4b93c0a0-d520-470b-8a11-0b1a56a96ee7",
      "metadata": {
        "colab": {
          "base_uri": "https://localhost:8080/"
        },
        "id": "4b93c0a0-d520-470b-8a11-0b1a56a96ee7",
        "outputId": "92716f5c-c5c2-4fbe-d17a-1643758f8b83"
      },
      "outputs": [
        {
          "output_type": "stream",
          "name": "stdout",
          "text": [
            "<class 'pandas.core.frame.DataFrame'>\n",
            "RangeIndex: 35 entries, 0 to 34\n",
            "Data columns (total 5 columns):\n",
            " #   Column       Non-Null Count  Dtype  \n",
            "---  ------       --------------  -----  \n",
            " 0   Date         35 non-null     object \n",
            " 1   Interviewee  0 non-null      float64\n",
            " 2   Profession   35 non-null     object \n",
            " 3   Medium       35 non-null     object \n",
            " 4   Notes        34 non-null     object \n",
            "dtypes: float64(1), object(4)\n",
            "memory usage: 1.5+ KB\n"
          ]
        }
      ],
      "source": [
        "df.info()"
      ]
    },
    {
      "cell_type": "markdown",
      "id": "8f15e246-aba7-41bd-987c-a9af499ffe00",
      "metadata": {
        "id": "8f15e246-aba7-41bd-987c-a9af499ffe00"
      },
      "source": [
        "- Date is 'object' data-type. Need to change to datatime format\n",
        "- Interviewee is float64. The real names of Interviewee were dropped. So Let's randomly generate some name for each interviewee."
      ]
    },
    {
      "cell_type": "code",
      "execution_count": 7,
      "id": "8294b95c-ef81-424a-80df-40d77a8c8c13",
      "metadata": {
        "id": "8294b95c-ef81-424a-80df-40d77a8c8c13"
      },
      "outputs": [],
      "source": [
        "## change the column type of date\n",
        "df[\"Date\"] = pd.to_datetime(df[\"Date\"])"
      ]
    },
    {
      "cell_type": "markdown",
      "id": "511c1671-35f5-4986-b29f-22ca901185e9",
      "metadata": {
        "id": "511c1671-35f5-4986-b29f-22ca901185e9"
      },
      "source": [
        "https://stackoverflow.com/questions/38333954/converting-object-to-datetime-format-in-python "
      ]
    },
    {
      "cell_type": "code",
      "execution_count": 8,
      "id": "b8b2d756-51e0-4f67-968c-f92ecfad6f33",
      "metadata": {
        "colab": {
          "base_uri": "https://localhost:8080/"
        },
        "id": "b8b2d756-51e0-4f67-968c-f92ecfad6f33",
        "outputId": "5843db11-0dae-4ed9-f13f-e3ce555234f0"
      },
      "outputs": [
        {
          "output_type": "stream",
          "name": "stdout",
          "text": [
            "<class 'pandas.core.frame.DataFrame'>\n",
            "RangeIndex: 35 entries, 0 to 34\n",
            "Data columns (total 5 columns):\n",
            " #   Column       Non-Null Count  Dtype         \n",
            "---  ------       --------------  -----         \n",
            " 0   Date         35 non-null     datetime64[ns]\n",
            " 1   Interviewee  0 non-null      float64       \n",
            " 2   Profession   35 non-null     object        \n",
            " 3   Medium       35 non-null     object        \n",
            " 4   Notes        34 non-null     object        \n",
            "dtypes: datetime64[ns](1), float64(1), object(3)\n",
            "memory usage: 1.5+ KB\n"
          ]
        }
      ],
      "source": [
        "## check the updated datatype\n",
        "df.info()"
      ]
    },
    {
      "cell_type": "code",
      "execution_count": 9,
      "id": "dfa9595c-f2d4-48c5-9633-f22c9d47429a",
      "metadata": {
        "colab": {
          "base_uri": "https://localhost:8080/",
          "height": 300
        },
        "id": "dfa9595c-f2d4-48c5-9633-f22c9d47429a",
        "outputId": "bf9ec731-7865-41d1-c636-dd9c74278672"
      },
      "outputs": [
        {
          "output_type": "execute_result",
          "data": {
            "text/html": [
              "\n",
              "  <div id=\"df-1341a9d9-2b86-46a9-88f8-c5f415dc2f2b\">\n",
              "    <div class=\"colab-df-container\">\n",
              "      <div>\n",
              "<style scoped>\n",
              "    .dataframe tbody tr th:only-of-type {\n",
              "        vertical-align: middle;\n",
              "    }\n",
              "\n",
              "    .dataframe tbody tr th {\n",
              "        vertical-align: top;\n",
              "    }\n",
              "\n",
              "    .dataframe thead th {\n",
              "        text-align: right;\n",
              "    }\n",
              "</style>\n",
              "<table border=\"1\" class=\"dataframe\">\n",
              "  <thead>\n",
              "    <tr style=\"text-align: right;\">\n",
              "      <th></th>\n",
              "      <th>Interviewee</th>\n",
              "    </tr>\n",
              "  </thead>\n",
              "  <tbody>\n",
              "    <tr>\n",
              "      <th>count</th>\n",
              "      <td>0.0</td>\n",
              "    </tr>\n",
              "    <tr>\n",
              "      <th>mean</th>\n",
              "      <td>NaN</td>\n",
              "    </tr>\n",
              "    <tr>\n",
              "      <th>std</th>\n",
              "      <td>NaN</td>\n",
              "    </tr>\n",
              "    <tr>\n",
              "      <th>min</th>\n",
              "      <td>NaN</td>\n",
              "    </tr>\n",
              "    <tr>\n",
              "      <th>25%</th>\n",
              "      <td>NaN</td>\n",
              "    </tr>\n",
              "    <tr>\n",
              "      <th>50%</th>\n",
              "      <td>NaN</td>\n",
              "    </tr>\n",
              "    <tr>\n",
              "      <th>75%</th>\n",
              "      <td>NaN</td>\n",
              "    </tr>\n",
              "    <tr>\n",
              "      <th>max</th>\n",
              "      <td>NaN</td>\n",
              "    </tr>\n",
              "  </tbody>\n",
              "</table>\n",
              "</div>\n",
              "      <button class=\"colab-df-convert\" onclick=\"convertToInteractive('df-1341a9d9-2b86-46a9-88f8-c5f415dc2f2b')\"\n",
              "              title=\"Convert this dataframe to an interactive table.\"\n",
              "              style=\"display:none;\">\n",
              "        \n",
              "  <svg xmlns=\"http://www.w3.org/2000/svg\" height=\"24px\"viewBox=\"0 0 24 24\"\n",
              "       width=\"24px\">\n",
              "    <path d=\"M0 0h24v24H0V0z\" fill=\"none\"/>\n",
              "    <path d=\"M18.56 5.44l.94 2.06.94-2.06 2.06-.94-2.06-.94-.94-2.06-.94 2.06-2.06.94zm-11 1L8.5 8.5l.94-2.06 2.06-.94-2.06-.94L8.5 2.5l-.94 2.06-2.06.94zm10 10l.94 2.06.94-2.06 2.06-.94-2.06-.94-.94-2.06-.94 2.06-2.06.94z\"/><path d=\"M17.41 7.96l-1.37-1.37c-.4-.4-.92-.59-1.43-.59-.52 0-1.04.2-1.43.59L10.3 9.45l-7.72 7.72c-.78.78-.78 2.05 0 2.83L4 21.41c.39.39.9.59 1.41.59.51 0 1.02-.2 1.41-.59l7.78-7.78 2.81-2.81c.8-.78.8-2.07 0-2.86zM5.41 20L4 18.59l7.72-7.72 1.47 1.35L5.41 20z\"/>\n",
              "  </svg>\n",
              "      </button>\n",
              "      \n",
              "  <style>\n",
              "    .colab-df-container {\n",
              "      display:flex;\n",
              "      flex-wrap:wrap;\n",
              "      gap: 12px;\n",
              "    }\n",
              "\n",
              "    .colab-df-convert {\n",
              "      background-color: #E8F0FE;\n",
              "      border: none;\n",
              "      border-radius: 50%;\n",
              "      cursor: pointer;\n",
              "      display: none;\n",
              "      fill: #1967D2;\n",
              "      height: 32px;\n",
              "      padding: 0 0 0 0;\n",
              "      width: 32px;\n",
              "    }\n",
              "\n",
              "    .colab-df-convert:hover {\n",
              "      background-color: #E2EBFA;\n",
              "      box-shadow: 0px 1px 2px rgba(60, 64, 67, 0.3), 0px 1px 3px 1px rgba(60, 64, 67, 0.15);\n",
              "      fill: #174EA6;\n",
              "    }\n",
              "\n",
              "    [theme=dark] .colab-df-convert {\n",
              "      background-color: #3B4455;\n",
              "      fill: #D2E3FC;\n",
              "    }\n",
              "\n",
              "    [theme=dark] .colab-df-convert:hover {\n",
              "      background-color: #434B5C;\n",
              "      box-shadow: 0px 1px 3px 1px rgba(0, 0, 0, 0.15);\n",
              "      filter: drop-shadow(0px 1px 2px rgba(0, 0, 0, 0.3));\n",
              "      fill: #FFFFFF;\n",
              "    }\n",
              "  </style>\n",
              "\n",
              "      <script>\n",
              "        const buttonEl =\n",
              "          document.querySelector('#df-1341a9d9-2b86-46a9-88f8-c5f415dc2f2b button.colab-df-convert');\n",
              "        buttonEl.style.display =\n",
              "          google.colab.kernel.accessAllowed ? 'block' : 'none';\n",
              "\n",
              "        async function convertToInteractive(key) {\n",
              "          const element = document.querySelector('#df-1341a9d9-2b86-46a9-88f8-c5f415dc2f2b');\n",
              "          const dataTable =\n",
              "            await google.colab.kernel.invokeFunction('convertToInteractive',\n",
              "                                                     [key], {});\n",
              "          if (!dataTable) return;\n",
              "\n",
              "          const docLinkHtml = 'Like what you see? Visit the ' +\n",
              "            '<a target=\"_blank\" href=https://colab.research.google.com/notebooks/data_table.ipynb>data table notebook</a>'\n",
              "            + ' to learn more about interactive tables.';\n",
              "          element.innerHTML = '';\n",
              "          dataTable['output_type'] = 'display_data';\n",
              "          await google.colab.output.renderOutput(dataTable, element);\n",
              "          const docLink = document.createElement('div');\n",
              "          docLink.innerHTML = docLinkHtml;\n",
              "          element.appendChild(docLink);\n",
              "        }\n",
              "      </script>\n",
              "    </div>\n",
              "  </div>\n",
              "  "
            ],
            "text/plain": [
              "       Interviewee\n",
              "count          0.0\n",
              "mean           NaN\n",
              "std            NaN\n",
              "min            NaN\n",
              "25%            NaN\n",
              "50%            NaN\n",
              "75%            NaN\n",
              "max            NaN"
            ]
          },
          "metadata": {},
          "execution_count": 9
        }
      ],
      "source": [
        "##\n",
        "df.describe()"
      ]
    },
    {
      "cell_type": "markdown",
      "id": "068105f3-efed-4a58-b233-45784121d051",
      "metadata": {
        "id": "068105f3-efed-4a58-b233-45784121d051"
      },
      "source": [
        "##  Sorting"
      ]
    },
    {
      "cell_type": "code",
      "execution_count": 10,
      "id": "660be99b-3c25-4816-9777-342c86065d6e",
      "metadata": {
        "colab": {
          "base_uri": "https://localhost:8080/",
          "height": 206
        },
        "id": "660be99b-3c25-4816-9777-342c86065d6e",
        "outputId": "5bad9416-f2e1-480c-cc6d-7b0973c4f699"
      },
      "outputs": [
        {
          "output_type": "execute_result",
          "data": {
            "text/html": [
              "\n",
              "  <div id=\"df-362a9b3c-e149-4e40-87c0-edeff2acbd23\">\n",
              "    <div class=\"colab-df-container\">\n",
              "      <div>\n",
              "<style scoped>\n",
              "    .dataframe tbody tr th:only-of-type {\n",
              "        vertical-align: middle;\n",
              "    }\n",
              "\n",
              "    .dataframe tbody tr th {\n",
              "        vertical-align: top;\n",
              "    }\n",
              "\n",
              "    .dataframe thead th {\n",
              "        text-align: right;\n",
              "    }\n",
              "</style>\n",
              "<table border=\"1\" class=\"dataframe\">\n",
              "  <thead>\n",
              "    <tr style=\"text-align: right;\">\n",
              "      <th></th>\n",
              "      <th>Date</th>\n",
              "      <th>Interviewee</th>\n",
              "      <th>Profession</th>\n",
              "      <th>Medium</th>\n",
              "      <th>Notes</th>\n",
              "    </tr>\n",
              "  </thead>\n",
              "  <tbody>\n",
              "    <tr>\n",
              "      <th>34</th>\n",
              "      <td>2021-08-03</td>\n",
              "      <td>NaN</td>\n",
              "      <td>Pacific Northwest Laboratory</td>\n",
              "      <td>Video Conference</td>\n",
              "      <td>TBD</td>\n",
              "    </tr>\n",
              "    <tr>\n",
              "      <th>33</th>\n",
              "      <td>2021-08-05</td>\n",
              "      <td>NaN</td>\n",
              "      <td>Director, Navigation and Civil Works Decision</td>\n",
              "      <td>Video Conference</td>\n",
              "      <td>attribute to improvement in Navigation, Dredgi...</td>\n",
              "    </tr>\n",
              "    <tr>\n",
              "      <th>31</th>\n",
              "      <td>2021-08-06</td>\n",
              "      <td>NaN</td>\n",
              "      <td>UW locatizaltion</td>\n",
              "      <td>In-Person</td>\n",
              "      <td>TBD</td>\n",
              "    </tr>\n",
              "    <tr>\n",
              "      <th>32</th>\n",
              "      <td>2021-08-06</td>\n",
              "      <td>NaN</td>\n",
              "      <td>Diving Officer</td>\n",
              "      <td>Video Conference</td>\n",
              "      <td>Monday Aug 9th at 2pm</td>\n",
              "    </tr>\n",
              "    <tr>\n",
              "      <th>30</th>\n",
              "      <td>2021-08-11</td>\n",
              "      <td>NaN</td>\n",
              "      <td>Associate Director</td>\n",
              "      <td>Video Conference</td>\n",
              "      <td>Discuss acoustic technology in commercialization.</td>\n",
              "    </tr>\n",
              "  </tbody>\n",
              "</table>\n",
              "</div>\n",
              "      <button class=\"colab-df-convert\" onclick=\"convertToInteractive('df-362a9b3c-e149-4e40-87c0-edeff2acbd23')\"\n",
              "              title=\"Convert this dataframe to an interactive table.\"\n",
              "              style=\"display:none;\">\n",
              "        \n",
              "  <svg xmlns=\"http://www.w3.org/2000/svg\" height=\"24px\"viewBox=\"0 0 24 24\"\n",
              "       width=\"24px\">\n",
              "    <path d=\"M0 0h24v24H0V0z\" fill=\"none\"/>\n",
              "    <path d=\"M18.56 5.44l.94 2.06.94-2.06 2.06-.94-2.06-.94-.94-2.06-.94 2.06-2.06.94zm-11 1L8.5 8.5l.94-2.06 2.06-.94-2.06-.94L8.5 2.5l-.94 2.06-2.06.94zm10 10l.94 2.06.94-2.06 2.06-.94-2.06-.94-.94-2.06-.94 2.06-2.06.94z\"/><path d=\"M17.41 7.96l-1.37-1.37c-.4-.4-.92-.59-1.43-.59-.52 0-1.04.2-1.43.59L10.3 9.45l-7.72 7.72c-.78.78-.78 2.05 0 2.83L4 21.41c.39.39.9.59 1.41.59.51 0 1.02-.2 1.41-.59l7.78-7.78 2.81-2.81c.8-.78.8-2.07 0-2.86zM5.41 20L4 18.59l7.72-7.72 1.47 1.35L5.41 20z\"/>\n",
              "  </svg>\n",
              "      </button>\n",
              "      \n",
              "  <style>\n",
              "    .colab-df-container {\n",
              "      display:flex;\n",
              "      flex-wrap:wrap;\n",
              "      gap: 12px;\n",
              "    }\n",
              "\n",
              "    .colab-df-convert {\n",
              "      background-color: #E8F0FE;\n",
              "      border: none;\n",
              "      border-radius: 50%;\n",
              "      cursor: pointer;\n",
              "      display: none;\n",
              "      fill: #1967D2;\n",
              "      height: 32px;\n",
              "      padding: 0 0 0 0;\n",
              "      width: 32px;\n",
              "    }\n",
              "\n",
              "    .colab-df-convert:hover {\n",
              "      background-color: #E2EBFA;\n",
              "      box-shadow: 0px 1px 2px rgba(60, 64, 67, 0.3), 0px 1px 3px 1px rgba(60, 64, 67, 0.15);\n",
              "      fill: #174EA6;\n",
              "    }\n",
              "\n",
              "    [theme=dark] .colab-df-convert {\n",
              "      background-color: #3B4455;\n",
              "      fill: #D2E3FC;\n",
              "    }\n",
              "\n",
              "    [theme=dark] .colab-df-convert:hover {\n",
              "      background-color: #434B5C;\n",
              "      box-shadow: 0px 1px 3px 1px rgba(0, 0, 0, 0.15);\n",
              "      filter: drop-shadow(0px 1px 2px rgba(0, 0, 0, 0.3));\n",
              "      fill: #FFFFFF;\n",
              "    }\n",
              "  </style>\n",
              "\n",
              "      <script>\n",
              "        const buttonEl =\n",
              "          document.querySelector('#df-362a9b3c-e149-4e40-87c0-edeff2acbd23 button.colab-df-convert');\n",
              "        buttonEl.style.display =\n",
              "          google.colab.kernel.accessAllowed ? 'block' : 'none';\n",
              "\n",
              "        async function convertToInteractive(key) {\n",
              "          const element = document.querySelector('#df-362a9b3c-e149-4e40-87c0-edeff2acbd23');\n",
              "          const dataTable =\n",
              "            await google.colab.kernel.invokeFunction('convertToInteractive',\n",
              "                                                     [key], {});\n",
              "          if (!dataTable) return;\n",
              "\n",
              "          const docLinkHtml = 'Like what you see? Visit the ' +\n",
              "            '<a target=\"_blank\" href=https://colab.research.google.com/notebooks/data_table.ipynb>data table notebook</a>'\n",
              "            + ' to learn more about interactive tables.';\n",
              "          element.innerHTML = '';\n",
              "          dataTable['output_type'] = 'display_data';\n",
              "          await google.colab.output.renderOutput(dataTable, element);\n",
              "          const docLink = document.createElement('div');\n",
              "          docLink.innerHTML = docLinkHtml;\n",
              "          element.appendChild(docLink);\n",
              "        }\n",
              "      </script>\n",
              "    </div>\n",
              "  </div>\n",
              "  "
            ],
            "text/plain": [
              "         Date  ...                                              Notes\n",
              "34 2021-08-03  ...                                                TBD\n",
              "33 2021-08-05  ...  attribute to improvement in Navigation, Dredgi...\n",
              "31 2021-08-06  ...                                                TBD\n",
              "32 2021-08-06  ...                              Monday Aug 9th at 2pm\n",
              "30 2021-08-11  ...  Discuss acoustic technology in commercialization.\n",
              "\n",
              "[5 rows x 5 columns]"
            ]
          },
          "metadata": {},
          "execution_count": 10
        }
      ],
      "source": [
        "## sort by date\n",
        "df.sort_values(by='Date', ascending = True).head()"
      ]
    },
    {
      "cell_type": "markdown",
      "id": "390d5576-9e89-4c05-8e56-3043c35c57c5",
      "metadata": {
        "id": "390d5576-9e89-4c05-8e56-3043c35c57c5"
      },
      "source": [
        "## Change Data Type of Text"
      ]
    },
    {
      "cell_type": "code",
      "execution_count": 11,
      "id": "5b5c84a5-0541-440c-a8f7-4b5375a4ad85",
      "metadata": {
        "id": "5b5c84a5-0541-440c-a8f7-4b5375a4ad85"
      },
      "outputs": [],
      "source": [
        "## pull texts from the data\n",
        "text = df['Notes']"
      ]
    },
    {
      "cell_type": "code",
      "execution_count": null,
      "id": "ca70329a-03aa-4156-becf-42755fd33833",
      "metadata": {
        "id": "ca70329a-03aa-4156-becf-42755fd33833",
        "outputId": "a3e10c6c-af8a-4eea-c2d1-af599f181c6b"
      },
      "outputs": [
        {
          "name": "stdout",
          "output_type": "stream",
          "text": [
            "0     Jennifer is in charge of permits, regulations ...\n",
            "1     Their farm is located in Maryland Chesapeake B...\n",
            "2     They use cables to transmit power and data, he...\n",
            "3     They raised Tilapia fish indoor, in a controll...\n",
            "4     She took eggs indoor and hatched them controll...\n",
            "5     The fish was raised as bait for other fisherme...\n",
            "6     Eagle and birds took 70% of the stock, he was ...\n",
            "7     Explained that it is important to look into im...\n",
            "8     They use a side scan sonar to detect where fis...\n",
            "9     They raise trout and Bass, they have 10tanks w...\n",
            "10    Fish are raised in 'raceways' or tanks, there ...\n",
            "11    They use a side scan sonar to detect where fis...\n",
            "12    Bob described how he keeps baby shellfish in h...\n",
            "13    Described Integrated multi-trophic aquaculture...\n",
            "14                                                  NaN\n",
            "15    Showed us a transponder created by her student...\n",
            "16          Divers take underwater images on BOP reefs.\n",
            "17                                 Micromodem is used. \n",
            "18    Oysters and Coral reefs in the Harbor help eac...\n",
            "19    Green (right) and red (left) buoys are used to...\n",
            "20           Ferries use radio system known as Faruno. \n",
            "21    Mentioned how diving instructors can use a dev...\n",
            "22    They need an affordable, reliable and if possi...\n",
            "23    Vessels like the City Ferry use VHF radio syst...\n",
            "24    Oxygen tank is used for deeper places and need...\n",
            "25    Advised improving energy efficiency, also ask ...\n",
            "26                       Air bubbles in leak detectors \n",
            "27                          Detection against poachers \n",
            "28            Needs device to monitor quality of water \n",
            "29                        ocean wave energy harvesting \n",
            "30    Discuss acoustic technology in commercialization.\n",
            "31                                                  TBD\n",
            "32                                Monday Aug 9th at 2pm\n",
            "33    attribute to improvement in Navigation, Dredgi...\n",
            "34                                                  TBD\n",
            "Name: Notes, dtype: object\n"
          ]
        }
      ],
      "source": [
        "## \n",
        "print(text)"
      ]
    },
    {
      "cell_type": "code",
      "execution_count": 12,
      "id": "bdb2e154-344b-47ce-a735-727690bcac26",
      "metadata": {
        "id": "bdb2e154-344b-47ce-a735-727690bcac26"
      },
      "outputs": [],
      "source": [
        "## convert object datatype to string\n",
        "text = str(text)"
      ]
    },
    {
      "cell_type": "code",
      "execution_count": 13,
      "id": "177ec10e-ba7b-49ee-89f6-df479839bedd",
      "metadata": {
        "colab": {
          "base_uri": "https://localhost:8080/"
        },
        "id": "177ec10e-ba7b-49ee-89f6-df479839bedd",
        "outputId": "0d94de12-1e44-49fc-9946-734eeed42627"
      },
      "outputs": [
        {
          "output_type": "execute_result",
          "data": {
            "text/plain": [
              "str"
            ]
          },
          "metadata": {},
          "execution_count": 13
        }
      ],
      "source": [
        "## check the type of text data again\n",
        "type(text)"
      ]
    },
    {
      "cell_type": "markdown",
      "id": "e4b11ae5-f39d-4ed0-9285-524ed6aa2374",
      "metadata": {
        "id": "e4b11ae5-f39d-4ed0-9285-524ed6aa2374"
      },
      "source": [
        "## Create a Word Cloud"
      ]
    },
    {
      "cell_type": "code",
      "execution_count": 14,
      "id": "79e1c65f-5b36-4d78-87d2-581266aa73e9",
      "metadata": {
        "colab": {
          "base_uri": "https://localhost:8080/"
        },
        "id": "79e1c65f-5b36-4d78-87d2-581266aa73e9",
        "outputId": "83d574fc-a888-4120-ff28-cb3a0d715fc1"
      },
      "outputs": [
        {
          "output_type": "stream",
          "name": "stdout",
          "text": [
            "Python 3.7.12\n"
          ]
        }
      ],
      "source": [
        "!python --version"
      ]
    },
    {
      "cell_type": "code",
      "execution_count": 44,
      "id": "5a2339e8-966d-4151-bf04-bb5434d27005",
      "metadata": {
        "colab": {
          "base_uri": "https://localhost:8080/",
          "height": 198
        },
        "id": "5a2339e8-966d-4151-bf04-bb5434d27005",
        "outputId": "d955d811-e164-433f-f3d9-170ac29fa38c"
      },
      "outputs": [
        {
          "output_type": "display_data",
          "data": {
            "image/png": "[encoded data removed]",
            "text/plain": [
              "<Figure size 432x288 with 1 Axes>"
            ]
          },
          "metadata": {
            "needs_background": "light"
          }
        }
      ],
      "source": [
        "from wordcloud import WordCloud, STOPWORDS\n",
        "\n",
        "wordcloud = WordCloud(max_font_size=120).generate(text)\n",
        "\n",
        "## display the generated image:\n",
        "plt.imshow(wordcloud, interpolation='bilinear')\n",
        "plt.axis(\"off\")\n",
        "plt.show()\n",
        "\n"
      ]
    },
    {
      "cell_type": "code",
      "source": [
        "## save the image file\n",
        "img = wordcloud.to_file(\"./img/word_cloud.png\")\n",
        "\n",
        "!pwd"
      ],
      "metadata": {
        "colab": {
          "base_uri": "https://localhost:8080/"
        },
        "id": "hWUWK9e_jNkL",
        "outputId": "1794e50b-84e9-4056-8096-768da7bf7086"
      },
      "id": "hWUWK9e_jNkL",
      "execution_count": 52,
      "outputs": [
        {
          "output_type": "stream",
          "name": "stdout",
          "text": [
            "/content\n"
          ]
        }
      ]
    },
    {
      "cell_type": "markdown",
      "id": "27af231e-2a0b-45ed-8bd9-1ae597411d70",
      "metadata": {
        "id": "27af231e-2a0b-45ed-8bd9-1ae597411d70"
      },
      "source": [
        "# Sentiment Analysis"
      ]
    },
    {
      "cell_type": "code",
      "execution_count": 55,
      "id": "99f308f5-19e7-48ab-8aeb-5d884b40da0f",
      "metadata": {
        "id": "99f308f5-19e7-48ab-8aeb-5d884b40da0f"
      },
      "outputs": [],
      "source": [
        "from textblob import TextBlob"
      ]
    },
    {
      "cell_type": "code",
      "execution_count": 56,
      "id": "e94bbb59-343f-40e0-a102-b844e6e7d87c",
      "metadata": {
        "id": "e94bbb59-343f-40e0-a102-b844e6e7d87c"
      },
      "outputs": [],
      "source": [
        "##\n",
        "blob = TextBlob(text)"
      ]
    },
    {
      "cell_type": "code",
      "execution_count": 57,
      "id": "d728d554-09be-4269-9ab5-aa06554a4da9",
      "metadata": {
        "colab": {
          "base_uri": "https://localhost:8080/"
        },
        "id": "d728d554-09be-4269-9ab5-aa06554a4da9",
        "outputId": "eba7f564-4aa6-4523-a287-5739a91d3554"
      },
      "outputs": [
        {
          "output_type": "stream",
          "name": "stdout",
          "text": [
            "0.030102040816326527\n"
          ]
        }
      ],
      "source": [
        "##\n",
        "sentiment = blob.sentiment.polarity ## -1 to 1\n",
        "print(sentiment)"
      ]
    },
    {
      "cell_type": "markdown",
      "id": "7309d346-5e37-464e-acb9-5b4eda238d6e",
      "metadata": {
        "id": "7309d346-5e37-464e-acb9-5b4eda238d6e"
      },
      "source": [
        "- This text is slightly positive and more closer to a neutral tone."
      ]
    }
  ],
  "metadata": {
    "kernelspec": {
      "display_name": "Python 3 (ipykernel)",
      "language": "python",
      "name": "python3"
    },
    "language_info": {
      "codemirror_mode": {
        "name": "ipython",
        "version": 3
      },
      "file_extension": ".py",
      "mimetype": "text/x-python",
      "name": "python",
      "nbconvert_exporter": "python",
      "pygments_lexer": "ipython3",
      "version": "3.9.6"
    },
    "colab": {
      "name": "SL_SentimentAnalysis_On_CustomerDiscovery.ipynb",
      "provenance": [],
      "collapsed_sections": []
    }
  },
  "nbformat": 4,
  "nbformat_minor": 5
}